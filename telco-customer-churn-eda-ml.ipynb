{
 "cells": [
  {
   "cell_type": "markdown",
   "id": "34653e18",
   "metadata": {
    "_cell_guid": "b1076dfc-b9ad-4769-8c92-a6c4dae69d19",
    "_uuid": "8f2839f25d086af736a60e9eeb907d3b93b6e0e5",
    "execution": {
     "iopub.execute_input": "2022-10-28T06:14:45.891584Z",
     "iopub.status.busy": "2022-10-28T06:14:45.890548Z",
     "iopub.status.idle": "2022-10-28T06:14:45.926077Z",
     "shell.execute_reply": "2022-10-28T06:14:45.925040Z",
     "shell.execute_reply.started": "2022-10-28T06:14:45.891425Z"
    },
    "papermill": {
     "duration": 0.008472,
     "end_time": "2022-10-29T23:19:41.165580",
     "exception": false,
     "start_time": "2022-10-29T23:19:41.157108",
     "status": "completed"
    },
    "tags": []
   },
   "source": [
    "# Customer Churn data\n",
    "\n",
    "“Customer Churn” refers to the loss of customers. That is, if a customer or a client stops taking services from a company, it is said that he/she has churned.\n",
    "\n",
    "Churn is intimately connected to a company’s performance. The more one learns about buyers’ behavior, the more money one can make. Analyzing customer churn also aids in finding and improving the shortcomings of services provided by the company.\n",
    "\n",
    "We will try to investigate the dataset and try to answer these questions:\n",
    "\n",
    "(1) what is the likelihood of an active customer leaving an organization? \n",
    "(2) what are key indicators of a customer churn? \n",
    "(3) what retention strategies can be implemented based on the results to diminish prospective customer churn?"
   ]
  },
  {
   "cell_type": "markdown",
   "id": "75fb1119",
   "metadata": {
    "papermill": {
     "duration": 0.007023,
     "end_time": "2022-10-29T23:19:41.180080",
     "exception": false,
     "start_time": "2022-10-29T23:19:41.173057",
     "status": "completed"
    },
    "tags": []
   },
   "source": [
    "<a id=\"s1\"></a>\n",
    "# loading libraries"
   ]
  },
  {
   "cell_type": "code",
   "execution_count": 1,
   "id": "b163957c",
   "metadata": {
    "execution": {
     "iopub.execute_input": "2022-10-29T23:19:41.196758Z",
     "iopub.status.busy": "2022-10-29T23:19:41.196319Z",
     "iopub.status.idle": "2022-10-29T23:19:42.230357Z",
     "shell.execute_reply": "2022-10-29T23:19:42.228972Z"
    },
    "papermill": {
     "duration": 1.046127,
     "end_time": "2022-10-29T23:19:42.233622",
     "exception": false,
     "start_time": "2022-10-29T23:19:41.187495",
     "status": "completed"
    },
    "tags": []
   },
   "outputs": [
    {
     "name": "stdout",
     "output_type": "stream",
     "text": [
      "/kaggle/input/telco-customer-churn/WA_Fn-UseC_-Telco-Customer-Churn.csv\n"
     ]
    }
   ],
   "source": [
    "# This Python 3 environment comes with many helpful analytics libraries installed\n",
    "# It is defined by the kaggle/python Docker image: https://github.com/kaggle/docker-python\n",
    "# For example, here's several helpful packages to load\n",
    "\n",
    "import numpy as np # linear algebra\n",
    "import pandas as pd # data processing, CSV file I/O (e.g. pd.read_csv)\n",
    "import matplotlib.pyplot as plt\n",
    "import seaborn as sns\n",
    "\n",
    "# Input data files are available in the read-only \"../input/\" directory\n",
    "# For example, running this (by clicking run or pressing Shift+Enter) will list all files under the input directory\n",
    "\n",
    "import os\n",
    "for dirname, _, filenames in os.walk('/kaggle/input'):\n",
    "    for filename in filenames:\n",
    "        print(os.path.join(dirname, filename))\n",
    "\n",
    "# You can write up to 20GB to the current directory (/kaggle/working/) that gets preserved as output when you create a version using \"Save & Run All\" \n",
    "# You can also write temporary files to /kaggle/temp/, but they won't be saved outside of the current session"
   ]
  },
  {
   "cell_type": "markdown",
   "id": "f18ce191",
   "metadata": {
    "papermill": {
     "duration": 0.007122,
     "end_time": "2022-10-29T23:19:42.248227",
     "exception": false,
     "start_time": "2022-10-29T23:19:42.241105",
     "status": "completed"
    },
    "tags": []
   },
   "source": [
    "<a id=\"s2\"></a> <br>\n",
    "# reading the csv file"
   ]
  },
  {
   "cell_type": "code",
   "execution_count": 2,
   "id": "4221f7dd",
   "metadata": {
    "execution": {
     "iopub.execute_input": "2022-10-29T23:19:42.264439Z",
     "iopub.status.busy": "2022-10-29T23:19:42.264061Z",
     "iopub.status.idle": "2022-10-29T23:19:42.321771Z",
     "shell.execute_reply": "2022-10-29T23:19:42.320859Z"
    },
    "papermill": {
     "duration": 0.06917,
     "end_time": "2022-10-29T23:19:42.324743",
     "exception": false,
     "start_time": "2022-10-29T23:19:42.255573",
     "status": "completed"
    },
    "tags": []
   },
   "outputs": [],
   "source": [
    "df = pd.read_csv(\"../input/telco-customer-churn/WA_Fn-UseC_-Telco-Customer-Churn.csv\")"
   ]
  },
  {
   "cell_type": "markdown",
   "id": "6bf92893",
   "metadata": {
    "papermill": {
     "duration": 0.009259,
     "end_time": "2022-10-29T23:19:42.343123",
     "exception": false,
     "start_time": "2022-10-29T23:19:42.333864",
     "status": "completed"
    },
    "tags": []
   },
   "source": [
    "<a id=\"s3\"></a>\n",
    "# intial exploration"
   ]
  },
  {
   "cell_type": "code",
   "execution_count": 3,
   "id": "4563e10d",
   "metadata": {
    "execution": {
     "iopub.execute_input": "2022-10-29T23:19:42.362606Z",
     "iopub.status.busy": "2022-10-29T23:19:42.361622Z",
     "iopub.status.idle": "2022-10-29T23:19:42.404391Z",
     "shell.execute_reply": "2022-10-29T23:19:42.403207Z"
    },
    "papermill": {
     "duration": 0.055758,
     "end_time": "2022-10-29T23:19:42.407280",
     "exception": false,
     "start_time": "2022-10-29T23:19:42.351522",
     "status": "completed"
    },
    "tags": []
   },
   "outputs": [
    {
     "data": {
      "text/html": [
       "<div>\n",
       "<style scoped>\n",
       "    .dataframe tbody tr th:only-of-type {\n",
       "        vertical-align: middle;\n",
       "    }\n",
       "\n",
       "    .dataframe tbody tr th {\n",
       "        vertical-align: top;\n",
       "    }\n",
       "\n",
       "    .dataframe thead th {\n",
       "        text-align: right;\n",
       "    }\n",
       "</style>\n",
       "<table border=\"1\" class=\"dataframe\">\n",
       "  <thead>\n",
       "    <tr style=\"text-align: right;\">\n",
       "      <th></th>\n",
       "      <th>customerID</th>\n",
       "      <th>gender</th>\n",
       "      <th>SeniorCitizen</th>\n",
       "      <th>Partner</th>\n",
       "      <th>Dependents</th>\n",
       "      <th>tenure</th>\n",
       "      <th>PhoneService</th>\n",
       "      <th>MultipleLines</th>\n",
       "      <th>InternetService</th>\n",
       "      <th>OnlineSecurity</th>\n",
       "      <th>...</th>\n",
       "      <th>DeviceProtection</th>\n",
       "      <th>TechSupport</th>\n",
       "      <th>StreamingTV</th>\n",
       "      <th>StreamingMovies</th>\n",
       "      <th>Contract</th>\n",
       "      <th>PaperlessBilling</th>\n",
       "      <th>PaymentMethod</th>\n",
       "      <th>MonthlyCharges</th>\n",
       "      <th>TotalCharges</th>\n",
       "      <th>Churn</th>\n",
       "    </tr>\n",
       "  </thead>\n",
       "  <tbody>\n",
       "    <tr>\n",
       "      <th>0</th>\n",
       "      <td>7590-VHVEG</td>\n",
       "      <td>Female</td>\n",
       "      <td>0</td>\n",
       "      <td>Yes</td>\n",
       "      <td>No</td>\n",
       "      <td>1</td>\n",
       "      <td>No</td>\n",
       "      <td>No phone service</td>\n",
       "      <td>DSL</td>\n",
       "      <td>No</td>\n",
       "      <td>...</td>\n",
       "      <td>No</td>\n",
       "      <td>No</td>\n",
       "      <td>No</td>\n",
       "      <td>No</td>\n",
       "      <td>Month-to-month</td>\n",
       "      <td>Yes</td>\n",
       "      <td>Electronic check</td>\n",
       "      <td>29.85</td>\n",
       "      <td>29.85</td>\n",
       "      <td>No</td>\n",
       "    </tr>\n",
       "    <tr>\n",
       "      <th>1</th>\n",
       "      <td>5575-GNVDE</td>\n",
       "      <td>Male</td>\n",
       "      <td>0</td>\n",
       "      <td>No</td>\n",
       "      <td>No</td>\n",
       "      <td>34</td>\n",
       "      <td>Yes</td>\n",
       "      <td>No</td>\n",
       "      <td>DSL</td>\n",
       "      <td>Yes</td>\n",
       "      <td>...</td>\n",
       "      <td>Yes</td>\n",
       "      <td>No</td>\n",
       "      <td>No</td>\n",
       "      <td>No</td>\n",
       "      <td>One year</td>\n",
       "      <td>No</td>\n",
       "      <td>Mailed check</td>\n",
       "      <td>56.95</td>\n",
       "      <td>1889.5</td>\n",
       "      <td>No</td>\n",
       "    </tr>\n",
       "    <tr>\n",
       "      <th>2</th>\n",
       "      <td>3668-QPYBK</td>\n",
       "      <td>Male</td>\n",
       "      <td>0</td>\n",
       "      <td>No</td>\n",
       "      <td>No</td>\n",
       "      <td>2</td>\n",
       "      <td>Yes</td>\n",
       "      <td>No</td>\n",
       "      <td>DSL</td>\n",
       "      <td>Yes</td>\n",
       "      <td>...</td>\n",
       "      <td>No</td>\n",
       "      <td>No</td>\n",
       "      <td>No</td>\n",
       "      <td>No</td>\n",
       "      <td>Month-to-month</td>\n",
       "      <td>Yes</td>\n",
       "      <td>Mailed check</td>\n",
       "      <td>53.85</td>\n",
       "      <td>108.15</td>\n",
       "      <td>Yes</td>\n",
       "    </tr>\n",
       "    <tr>\n",
       "      <th>3</th>\n",
       "      <td>7795-CFOCW</td>\n",
       "      <td>Male</td>\n",
       "      <td>0</td>\n",
       "      <td>No</td>\n",
       "      <td>No</td>\n",
       "      <td>45</td>\n",
       "      <td>No</td>\n",
       "      <td>No phone service</td>\n",
       "      <td>DSL</td>\n",
       "      <td>Yes</td>\n",
       "      <td>...</td>\n",
       "      <td>Yes</td>\n",
       "      <td>Yes</td>\n",
       "      <td>No</td>\n",
       "      <td>No</td>\n",
       "      <td>One year</td>\n",
       "      <td>No</td>\n",
       "      <td>Bank transfer (automatic)</td>\n",
       "      <td>42.30</td>\n",
       "      <td>1840.75</td>\n",
       "      <td>No</td>\n",
       "    </tr>\n",
       "    <tr>\n",
       "      <th>4</th>\n",
       "      <td>9237-HQITU</td>\n",
       "      <td>Female</td>\n",
       "      <td>0</td>\n",
       "      <td>No</td>\n",
       "      <td>No</td>\n",
       "      <td>2</td>\n",
       "      <td>Yes</td>\n",
       "      <td>No</td>\n",
       "      <td>Fiber optic</td>\n",
       "      <td>No</td>\n",
       "      <td>...</td>\n",
       "      <td>No</td>\n",
       "      <td>No</td>\n",
       "      <td>No</td>\n",
       "      <td>No</td>\n",
       "      <td>Month-to-month</td>\n",
       "      <td>Yes</td>\n",
       "      <td>Electronic check</td>\n",
       "      <td>70.70</td>\n",
       "      <td>151.65</td>\n",
       "      <td>Yes</td>\n",
       "    </tr>\n",
       "  </tbody>\n",
       "</table>\n",
       "<p>5 rows × 21 columns</p>\n",
       "</div>"
      ],
      "text/plain": [
       "   customerID  gender  SeniorCitizen Partner Dependents  tenure PhoneService  \\\n",
       "0  7590-VHVEG  Female              0     Yes         No       1           No   \n",
       "1  5575-GNVDE    Male              0      No         No      34          Yes   \n",
       "2  3668-QPYBK    Male              0      No         No       2          Yes   \n",
       "3  7795-CFOCW    Male              0      No         No      45           No   \n",
       "4  9237-HQITU  Female              0      No         No       2          Yes   \n",
       "\n",
       "      MultipleLines InternetService OnlineSecurity  ... DeviceProtection  \\\n",
       "0  No phone service             DSL             No  ...               No   \n",
       "1                No             DSL            Yes  ...              Yes   \n",
       "2                No             DSL            Yes  ...               No   \n",
       "3  No phone service             DSL            Yes  ...              Yes   \n",
       "4                No     Fiber optic             No  ...               No   \n",
       "\n",
       "  TechSupport StreamingTV StreamingMovies        Contract PaperlessBilling  \\\n",
       "0          No          No              No  Month-to-month              Yes   \n",
       "1          No          No              No        One year               No   \n",
       "2          No          No              No  Month-to-month              Yes   \n",
       "3         Yes          No              No        One year               No   \n",
       "4          No          No              No  Month-to-month              Yes   \n",
       "\n",
       "               PaymentMethod MonthlyCharges  TotalCharges Churn  \n",
       "0           Electronic check          29.85         29.85    No  \n",
       "1               Mailed check          56.95        1889.5    No  \n",
       "2               Mailed check          53.85        108.15   Yes  \n",
       "3  Bank transfer (automatic)          42.30       1840.75    No  \n",
       "4           Electronic check          70.70        151.65   Yes  \n",
       "\n",
       "[5 rows x 21 columns]"
      ]
     },
     "execution_count": 3,
     "metadata": {},
     "output_type": "execute_result"
    }
   ],
   "source": [
    "df.head()"
   ]
  },
  {
   "cell_type": "code",
   "execution_count": 4,
   "id": "f6a7602d",
   "metadata": {
    "execution": {
     "iopub.execute_input": "2022-10-29T23:19:42.425449Z",
     "iopub.status.busy": "2022-10-29T23:19:42.424663Z",
     "iopub.status.idle": "2022-10-29T23:19:42.431979Z",
     "shell.execute_reply": "2022-10-29T23:19:42.430859Z"
    },
    "papermill": {
     "duration": 0.018874,
     "end_time": "2022-10-29T23:19:42.434158",
     "exception": false,
     "start_time": "2022-10-29T23:19:42.415284",
     "status": "completed"
    },
    "tags": []
   },
   "outputs": [
    {
     "data": {
      "text/plain": [
       "Index(['customerID', 'gender', 'SeniorCitizen', 'Partner', 'Dependents',\n",
       "       'tenure', 'PhoneService', 'MultipleLines', 'InternetService',\n",
       "       'OnlineSecurity', 'OnlineBackup', 'DeviceProtection', 'TechSupport',\n",
       "       'StreamingTV', 'StreamingMovies', 'Contract', 'PaperlessBilling',\n",
       "       'PaymentMethod', 'MonthlyCharges', 'TotalCharges', 'Churn'],\n",
       "      dtype='object')"
      ]
     },
     "execution_count": 4,
     "metadata": {},
     "output_type": "execute_result"
    }
   ],
   "source": [
    "df.columns"
   ]
  },
  {
   "cell_type": "markdown",
   "id": "a42c9479",
   "metadata": {
    "papermill": {
     "duration": 0.008013,
     "end_time": "2022-10-29T23:19:42.450697",
     "exception": false,
     "start_time": "2022-10-29T23:19:42.442684",
     "status": "completed"
    },
    "tags": []
   },
   "source": [
    "It seems we have many categorical variables such as gender, SeniorCitizen, Partner and some numerical features like, TotalCharges, MonthlyCharges. Finally the categorical variable Churn is the one that matters most, whether or not the customer has churned. We need to inspect the datatypes for each variable"
   ]
  },
  {
   "cell_type": "code",
   "execution_count": 5,
   "id": "1f6b9b08",
   "metadata": {
    "execution": {
     "iopub.execute_input": "2022-10-29T23:19:42.468103Z",
     "iopub.status.busy": "2022-10-29T23:19:42.467184Z",
     "iopub.status.idle": "2022-10-29T23:19:42.504195Z",
     "shell.execute_reply": "2022-10-29T23:19:42.503126Z"
    },
    "papermill": {
     "duration": 0.048951,
     "end_time": "2022-10-29T23:19:42.507313",
     "exception": false,
     "start_time": "2022-10-29T23:19:42.458362",
     "status": "completed"
    },
    "tags": []
   },
   "outputs": [
    {
     "name": "stdout",
     "output_type": "stream",
     "text": [
      "<class 'pandas.core.frame.DataFrame'>\n",
      "RangeIndex: 7043 entries, 0 to 7042\n",
      "Data columns (total 21 columns):\n",
      " #   Column            Non-Null Count  Dtype  \n",
      "---  ------            --------------  -----  \n",
      " 0   customerID        7043 non-null   object \n",
      " 1   gender            7043 non-null   object \n",
      " 2   SeniorCitizen     7043 non-null   int64  \n",
      " 3   Partner           7043 non-null   object \n",
      " 4   Dependents        7043 non-null   object \n",
      " 5   tenure            7043 non-null   int64  \n",
      " 6   PhoneService      7043 non-null   object \n",
      " 7   MultipleLines     7043 non-null   object \n",
      " 8   InternetService   7043 non-null   object \n",
      " 9   OnlineSecurity    7043 non-null   object \n",
      " 10  OnlineBackup      7043 non-null   object \n",
      " 11  DeviceProtection  7043 non-null   object \n",
      " 12  TechSupport       7043 non-null   object \n",
      " 13  StreamingTV       7043 non-null   object \n",
      " 14  StreamingMovies   7043 non-null   object \n",
      " 15  Contract          7043 non-null   object \n",
      " 16  PaperlessBilling  7043 non-null   object \n",
      " 17  PaymentMethod     7043 non-null   object \n",
      " 18  MonthlyCharges    7043 non-null   float64\n",
      " 19  TotalCharges      7043 non-null   object \n",
      " 20  Churn             7043 non-null   object \n",
      "dtypes: float64(1), int64(2), object(18)\n",
      "memory usage: 1.1+ MB\n"
     ]
    }
   ],
   "source": [
    "df.info()"
   ]
  },
  {
   "cell_type": "code",
   "execution_count": 6,
   "id": "51f8a12c",
   "metadata": {
    "execution": {
     "iopub.execute_input": "2022-10-29T23:19:42.527124Z",
     "iopub.status.busy": "2022-10-29T23:19:42.526730Z",
     "iopub.status.idle": "2022-10-29T23:19:42.538805Z",
     "shell.execute_reply": "2022-10-29T23:19:42.537602Z"
    },
    "papermill": {
     "duration": 0.024259,
     "end_time": "2022-10-29T23:19:42.541117",
     "exception": false,
     "start_time": "2022-10-29T23:19:42.516858",
     "status": "completed"
    },
    "tags": []
   },
   "outputs": [
    {
     "data": {
      "text/plain": [
       "{int64: ['SeniorCitizen', 'tenure'], float64: ['MonthlyCharges'], object: ['customerID', 'gender', 'Partner', 'Dependents', 'PhoneService', 'MultipleLines', 'InternetService', 'OnlineSecurity', 'OnlineBackup', 'DeviceProtection', 'TechSupport', 'StreamingTV', 'StreamingMovies', 'Contract', 'PaperlessBilling', 'PaymentMethod', 'TotalCharges', 'Churn']}"
      ]
     },
     "execution_count": 6,
     "metadata": {},
     "output_type": "execute_result"
    }
   ],
   "source": [
    "df.columns.to_series().groupby(df.dtypes).groups"
   ]
  },
  {
   "cell_type": "markdown",
   "id": "d2792a15",
   "metadata": {
    "papermill": {
     "duration": 0.007709,
     "end_time": "2022-10-29T23:19:42.556876",
     "exception": false,
     "start_time": "2022-10-29T23:19:42.549167",
     "status": "completed"
    },
    "tags": []
   },
   "source": [
    "<a id=\"s3_1\"></a>\n",
    "# exploring all the values per feature"
   ]
  },
  {
   "cell_type": "code",
   "execution_count": 7,
   "id": "1bc8ff02",
   "metadata": {
    "execution": {
     "iopub.execute_input": "2022-10-29T23:19:42.575259Z",
     "iopub.status.busy": "2022-10-29T23:19:42.574264Z",
     "iopub.status.idle": "2022-10-29T23:19:42.613001Z",
     "shell.execute_reply": "2022-10-29T23:19:42.610785Z"
    },
    "papermill": {
     "duration": 0.051046,
     "end_time": "2022-10-29T23:19:42.615975",
     "exception": false,
     "start_time": "2022-10-29T23:19:42.564929",
     "status": "completed"
    },
    "tags": []
   },
   "outputs": [
    {
     "name": "stdout",
     "output_type": "stream",
     "text": [
      "Male      3555\n",
      "Female    3488\n",
      "Name: gender, dtype: int64\n",
      "\n",
      "\n",
      "0    5901\n",
      "1    1142\n",
      "Name: SeniorCitizen, dtype: int64\n",
      "\n",
      "\n",
      "No     3641\n",
      "Yes    3402\n",
      "Name: Partner, dtype: int64\n",
      "\n",
      "\n",
      "No     4933\n",
      "Yes    2110\n",
      "Name: Dependents, dtype: int64\n",
      "\n",
      "\n",
      "1     613\n",
      "72    362\n",
      "2     238\n",
      "3     200\n",
      "4     176\n",
      "     ... \n",
      "28     57\n",
      "39     56\n",
      "44     51\n",
      "36     50\n",
      "0      11\n",
      "Name: tenure, Length: 73, dtype: int64\n",
      "\n",
      "\n",
      "Yes    6361\n",
      "No      682\n",
      "Name: PhoneService, dtype: int64\n",
      "\n",
      "\n",
      "No                  3390\n",
      "Yes                 2971\n",
      "No phone service     682\n",
      "Name: MultipleLines, dtype: int64\n",
      "\n",
      "\n",
      "Fiber optic    3096\n",
      "DSL            2421\n",
      "No             1526\n",
      "Name: InternetService, dtype: int64\n",
      "\n",
      "\n",
      "No                     3498\n",
      "Yes                    2019\n",
      "No internet service    1526\n",
      "Name: OnlineSecurity, dtype: int64\n",
      "\n",
      "\n",
      "No                     3088\n",
      "Yes                    2429\n",
      "No internet service    1526\n",
      "Name: OnlineBackup, dtype: int64\n",
      "\n",
      "\n",
      "No                     3095\n",
      "Yes                    2422\n",
      "No internet service    1526\n",
      "Name: DeviceProtection, dtype: int64\n",
      "\n",
      "\n",
      "No                     3473\n",
      "Yes                    2044\n",
      "No internet service    1526\n",
      "Name: TechSupport, dtype: int64\n",
      "\n",
      "\n",
      "No                     2810\n",
      "Yes                    2707\n",
      "No internet service    1526\n",
      "Name: StreamingTV, dtype: int64\n",
      "\n",
      "\n",
      "No                     2785\n",
      "Yes                    2732\n",
      "No internet service    1526\n",
      "Name: StreamingMovies, dtype: int64\n",
      "\n",
      "\n",
      "Month-to-month    3875\n",
      "Two year          1695\n",
      "One year          1473\n",
      "Name: Contract, dtype: int64\n",
      "\n",
      "\n",
      "Yes    4171\n",
      "No     2872\n",
      "Name: PaperlessBilling, dtype: int64\n",
      "\n",
      "\n",
      "Electronic check             2365\n",
      "Mailed check                 1612\n",
      "Bank transfer (automatic)    1544\n",
      "Credit card (automatic)      1522\n",
      "Name: PaymentMethod, dtype: int64\n",
      "\n",
      "\n",
      "20.05     61\n",
      "19.85     45\n",
      "19.95     44\n",
      "19.90     44\n",
      "20.00     43\n",
      "          ..\n",
      "23.65      1\n",
      "114.70     1\n",
      "43.65      1\n",
      "87.80      1\n",
      "78.70      1\n",
      "Name: MonthlyCharges, Length: 1585, dtype: int64\n",
      "\n",
      "\n",
      "          11\n",
      "20.2      11\n",
      "19.75      9\n",
      "20.05      8\n",
      "19.9       8\n",
      "          ..\n",
      "6849.4     1\n",
      "692.35     1\n",
      "130.15     1\n",
      "3211.9     1\n",
      "6844.5     1\n",
      "Name: TotalCharges, Length: 6531, dtype: int64\n",
      "\n",
      "\n",
      "No     5174\n",
      "Yes    1869\n",
      "Name: Churn, dtype: int64\n",
      "\n",
      "\n"
     ]
    }
   ],
   "source": [
    "for elem in df.columns[1:]:\n",
    "    print(df[elem].value_counts())\n",
    "    print(\"\\n\")"
   ]
  },
  {
   "cell_type": "markdown",
   "id": "a482a14a",
   "metadata": {
    "papermill": {
     "duration": 0.008174,
     "end_time": "2022-10-29T23:19:42.633589",
     "exception": false,
     "start_time": "2022-10-29T23:19:42.625415",
     "status": "completed"
    },
    "tags": []
   },
   "source": [
    "So far we have many categorical variables, seems that the feature TotalCharges should be float data type however, it is object instead. It needs to be changed. Lets try to inspect it."
   ]
  },
  {
   "cell_type": "markdown",
   "id": "81013e29",
   "metadata": {
    "papermill": {
     "duration": 0.007933,
     "end_time": "2022-10-29T23:19:42.649664",
     "exception": false,
     "start_time": "2022-10-29T23:19:42.641731",
     "status": "completed"
    },
    "tags": []
   },
   "source": [
    "<a id=\"s3_3_3\"></a>\n",
    "# Preprocessing"
   ]
  },
  {
   "cell_type": "code",
   "execution_count": 8,
   "id": "3032c308",
   "metadata": {
    "execution": {
     "iopub.execute_input": "2022-10-29T23:19:42.673434Z",
     "iopub.status.busy": "2022-10-29T23:19:42.672020Z",
     "iopub.status.idle": "2022-10-29T23:19:42.686453Z",
     "shell.execute_reply": "2022-10-29T23:19:42.685299Z"
    },
    "papermill": {
     "duration": 0.030814,
     "end_time": "2022-10-29T23:19:42.688921",
     "exception": false,
     "start_time": "2022-10-29T23:19:42.658107",
     "status": "completed"
    },
    "tags": []
   },
   "outputs": [
    {
     "data": {
      "text/plain": [
       "          11\n",
       "20.2      11\n",
       "19.75      9\n",
       "20.05      8\n",
       "19.9       8\n",
       "          ..\n",
       "6849.4     1\n",
       "692.35     1\n",
       "130.15     1\n",
       "3211.9     1\n",
       "6844.5     1\n",
       "Name: TotalCharges, Length: 6531, dtype: int64"
      ]
     },
     "execution_count": 8,
     "metadata": {},
     "output_type": "execute_result"
    }
   ],
   "source": [
    "df['TotalCharges'].value_counts()"
   ]
  },
  {
   "cell_type": "code",
   "execution_count": 9,
   "id": "415486fb",
   "metadata": {
    "execution": {
     "iopub.execute_input": "2022-10-29T23:19:42.709478Z",
     "iopub.status.busy": "2022-10-29T23:19:42.708069Z",
     "iopub.status.idle": "2022-10-29T23:19:42.718393Z",
     "shell.execute_reply": "2022-10-29T23:19:42.717536Z"
    },
    "papermill": {
     "duration": 0.023294,
     "end_time": "2022-10-29T23:19:42.720801",
     "exception": false,
     "start_time": "2022-10-29T23:19:42.697507",
     "status": "completed"
    },
    "tags": []
   },
   "outputs": [],
   "source": [
    "### preprocessing the TotalCharges, changing the null values with zero\n",
    "\n",
    "df.loc[ df['TotalCharges'] == ' ', 'TotalCharges'] = 0\n",
    "df[\"TotalCharges\"] = df[\"TotalCharges\"].astype(\"float64\") "
   ]
  },
  {
   "cell_type": "code",
   "execution_count": 10,
   "id": "5ec538bf",
   "metadata": {
    "execution": {
     "iopub.execute_input": "2022-10-29T23:19:42.741209Z",
     "iopub.status.busy": "2022-10-29T23:19:42.739794Z",
     "iopub.status.idle": "2022-10-29T23:19:42.746948Z",
     "shell.execute_reply": "2022-10-29T23:19:42.745992Z"
    },
    "papermill": {
     "duration": 0.020083,
     "end_time": "2022-10-29T23:19:42.749288",
     "exception": false,
     "start_time": "2022-10-29T23:19:42.729205",
     "status": "completed"
    },
    "tags": []
   },
   "outputs": [],
   "source": [
    "### preprocessing the senior citizens feature, converting from int64 to object type\n",
    "\n",
    "df[\"SeniorCitizen\"] = df[\"SeniorCitizen\"].astype(\"object\") "
   ]
  },
  {
   "cell_type": "markdown",
   "id": "b3714f3f",
   "metadata": {
    "papermill": {
     "duration": 0.007907,
     "end_time": "2022-10-29T23:19:42.765394",
     "exception": false,
     "start_time": "2022-10-29T23:19:42.757487",
     "status": "completed"
    },
    "tags": []
   },
   "source": [
    "<a id=\"s3_2\"></a>\n",
    "# Checking for NA values"
   ]
  },
  {
   "cell_type": "code",
   "execution_count": 11,
   "id": "b493d1e7",
   "metadata": {
    "execution": {
     "iopub.execute_input": "2022-10-29T23:19:42.784086Z",
     "iopub.status.busy": "2022-10-29T23:19:42.783679Z",
     "iopub.status.idle": "2022-10-29T23:19:42.799302Z",
     "shell.execute_reply": "2022-10-29T23:19:42.798103Z"
    },
    "papermill": {
     "duration": 0.027756,
     "end_time": "2022-10-29T23:19:42.801544",
     "exception": false,
     "start_time": "2022-10-29T23:19:42.773788",
     "status": "completed"
    },
    "tags": []
   },
   "outputs": [
    {
     "data": {
      "text/plain": [
       "customerID          0\n",
       "gender              0\n",
       "SeniorCitizen       0\n",
       "Partner             0\n",
       "Dependents          0\n",
       "tenure              0\n",
       "PhoneService        0\n",
       "MultipleLines       0\n",
       "InternetService     0\n",
       "OnlineSecurity      0\n",
       "OnlineBackup        0\n",
       "DeviceProtection    0\n",
       "TechSupport         0\n",
       "StreamingTV         0\n",
       "StreamingMovies     0\n",
       "Contract            0\n",
       "PaperlessBilling    0\n",
       "PaymentMethod       0\n",
       "MonthlyCharges      0\n",
       "TotalCharges        0\n",
       "Churn               0\n",
       "dtype: int64"
      ]
     },
     "execution_count": 11,
     "metadata": {},
     "output_type": "execute_result"
    }
   ],
   "source": [
    "df.isna().sum()"
   ]
  },
  {
   "cell_type": "markdown",
   "id": "66627eb7",
   "metadata": {
    "papermill": {
     "duration": 0.007997,
     "end_time": "2022-10-29T23:19:42.818020",
     "exception": false,
     "start_time": "2022-10-29T23:19:42.810023",
     "status": "completed"
    },
    "tags": []
   },
   "source": [
    "We have no missing values! That is good news! :D"
   ]
  },
  {
   "cell_type": "markdown",
   "id": "a3af0a1b",
   "metadata": {
    "papermill": {
     "duration": 0.008017,
     "end_time": "2022-10-29T23:19:42.834413",
     "exception": false,
     "start_time": "2022-10-29T23:19:42.826396",
     "status": "completed"
    },
    "tags": []
   },
   "source": [
    "<a id=\"s3_3\"></a>\n",
    "# Initial EDA, trying to understand the data\n",
    "\n",
    "Lets try to observe how the data, we need to see some descriptive statistics"
   ]
  },
  {
   "cell_type": "code",
   "execution_count": 12,
   "id": "955b511b",
   "metadata": {
    "execution": {
     "iopub.execute_input": "2022-10-29T23:19:42.853154Z",
     "iopub.status.busy": "2022-10-29T23:19:42.852711Z",
     "iopub.status.idle": "2022-10-29T23:19:42.878377Z",
     "shell.execute_reply": "2022-10-29T23:19:42.877220Z"
    },
    "papermill": {
     "duration": 0.038203,
     "end_time": "2022-10-29T23:19:42.880910",
     "exception": false,
     "start_time": "2022-10-29T23:19:42.842707",
     "status": "completed"
    },
    "tags": []
   },
   "outputs": [
    {
     "data": {
      "text/html": [
       "<div>\n",
       "<style scoped>\n",
       "    .dataframe tbody tr th:only-of-type {\n",
       "        vertical-align: middle;\n",
       "    }\n",
       "\n",
       "    .dataframe tbody tr th {\n",
       "        vertical-align: top;\n",
       "    }\n",
       "\n",
       "    .dataframe thead th {\n",
       "        text-align: right;\n",
       "    }\n",
       "</style>\n",
       "<table border=\"1\" class=\"dataframe\">\n",
       "  <thead>\n",
       "    <tr style=\"text-align: right;\">\n",
       "      <th></th>\n",
       "      <th>tenure</th>\n",
       "      <th>MonthlyCharges</th>\n",
       "      <th>TotalCharges</th>\n",
       "    </tr>\n",
       "  </thead>\n",
       "  <tbody>\n",
       "    <tr>\n",
       "      <th>count</th>\n",
       "      <td>7043.000000</td>\n",
       "      <td>7043.000000</td>\n",
       "      <td>7043.000000</td>\n",
       "    </tr>\n",
       "    <tr>\n",
       "      <th>mean</th>\n",
       "      <td>32.371149</td>\n",
       "      <td>64.761692</td>\n",
       "      <td>2279.734304</td>\n",
       "    </tr>\n",
       "    <tr>\n",
       "      <th>std</th>\n",
       "      <td>24.559481</td>\n",
       "      <td>30.090047</td>\n",
       "      <td>2266.794470</td>\n",
       "    </tr>\n",
       "    <tr>\n",
       "      <th>min</th>\n",
       "      <td>0.000000</td>\n",
       "      <td>18.250000</td>\n",
       "      <td>0.000000</td>\n",
       "    </tr>\n",
       "    <tr>\n",
       "      <th>25%</th>\n",
       "      <td>9.000000</td>\n",
       "      <td>35.500000</td>\n",
       "      <td>398.550000</td>\n",
       "    </tr>\n",
       "    <tr>\n",
       "      <th>50%</th>\n",
       "      <td>29.000000</td>\n",
       "      <td>70.350000</td>\n",
       "      <td>1394.550000</td>\n",
       "    </tr>\n",
       "    <tr>\n",
       "      <th>75%</th>\n",
       "      <td>55.000000</td>\n",
       "      <td>89.850000</td>\n",
       "      <td>3786.600000</td>\n",
       "    </tr>\n",
       "    <tr>\n",
       "      <th>max</th>\n",
       "      <td>72.000000</td>\n",
       "      <td>118.750000</td>\n",
       "      <td>8684.800000</td>\n",
       "    </tr>\n",
       "  </tbody>\n",
       "</table>\n",
       "</div>"
      ],
      "text/plain": [
       "            tenure  MonthlyCharges  TotalCharges\n",
       "count  7043.000000     7043.000000   7043.000000\n",
       "mean     32.371149       64.761692   2279.734304\n",
       "std      24.559481       30.090047   2266.794470\n",
       "min       0.000000       18.250000      0.000000\n",
       "25%       9.000000       35.500000    398.550000\n",
       "50%      29.000000       70.350000   1394.550000\n",
       "75%      55.000000       89.850000   3786.600000\n",
       "max      72.000000      118.750000   8684.800000"
      ]
     },
     "execution_count": 12,
     "metadata": {},
     "output_type": "execute_result"
    }
   ],
   "source": [
    "df.describe()"
   ]
  },
  {
   "cell_type": "markdown",
   "id": "eb218705",
   "metadata": {
    "papermill": {
     "duration": 0.008481,
     "end_time": "2022-10-29T23:19:42.898224",
     "exception": false,
     "start_time": "2022-10-29T23:19:42.889743",
     "status": "completed"
    },
    "tags": []
   },
   "source": [
    "<a id=\"s3_4\"></a>\n",
    "# Exploring Churn with other numerical variables"
   ]
  },
  {
   "cell_type": "code",
   "execution_count": 13,
   "id": "29f89fdd",
   "metadata": {
    "execution": {
     "iopub.execute_input": "2022-10-29T23:19:42.918000Z",
     "iopub.status.busy": "2022-10-29T23:19:42.917182Z",
     "iopub.status.idle": "2022-10-29T23:19:44.647472Z",
     "shell.execute_reply": "2022-10-29T23:19:44.646514Z"
    },
    "papermill": {
     "duration": 1.742744,
     "end_time": "2022-10-29T23:19:44.649759",
     "exception": false,
     "start_time": "2022-10-29T23:19:42.907015",
     "status": "completed"
    },
    "tags": []
   },
   "outputs": [
    {
     "data": {
      "image/png": "[encoded data removed]",
      "text/plain": [
       "<Figure size 1440x3960 with 6 Axes>"
      ]
     },
     "metadata": {
      "needs_background": "light"
     },
     "output_type": "display_data"
    }
   ],
   "source": [
    "fig, ax = plt.subplots(6, figsize=(20, 55))\n",
    "\n",
    "g=sns.boxplot(data=df, x=\"tenure\", y=\"Churn\", ax=ax[0], hue=\"Churn\")\n",
    "g=sns.histplot(data=df, x=\"tenure\", ax=ax[1], hue=\"Churn\")\n",
    "\n",
    "\n",
    "g=sns.boxplot(data=df, x=\"MonthlyCharges\", y=\"Churn\", ax=ax[2], hue=\"Churn\")\n",
    "g=sns.histplot(data=df, x=\"MonthlyCharges\", ax=ax[3], hue=\"Churn\")\n",
    "\n",
    "\n",
    "g=sns.boxplot(data=df, x=\"TotalCharges\", y=\"Churn\", ax=ax[4], hue=\"Churn\")\n",
    "g=sns.histplot(data=df, x=\"TotalCharges\", ax=ax[5], hue=\"Churn\")"
   ]
  },
  {
   "cell_type": "code",
   "execution_count": null,
   "id": "c8625fbd",
   "metadata": {
    "papermill": {
     "duration": 0.009763,
     "end_time": "2022-10-29T23:19:44.669584",
     "exception": false,
     "start_time": "2022-10-29T23:19:44.659821",
     "status": "completed"
    },
    "tags": []
   },
   "outputs": [],
   "source": []
  },
  {
   "cell_type": "markdown",
   "id": "1daaacb9",
   "metadata": {
    "execution": {
     "iopub.execute_input": "2022-10-28T06:33:54.576005Z",
     "iopub.status.busy": "2022-10-28T06:33:54.575583Z",
     "iopub.status.idle": "2022-10-28T06:33:54.834236Z",
     "shell.execute_reply": "2022-10-28T06:33:54.833260Z",
     "shell.execute_reply.started": "2022-10-28T06:33:54.575972Z"
    },
    "papermill": {
     "duration": 0.009631,
     "end_time": "2022-10-29T23:19:44.689108",
     "exception": false,
     "start_time": "2022-10-29T23:19:44.679477",
     "status": "completed"
    },
    "tags": []
   },
   "source": [
    "# Exploring Churn with other categorical variables"
   ]
  },
  {
   "cell_type": "code",
   "execution_count": 14,
   "id": "b118eb30",
   "metadata": {
    "execution": {
     "iopub.execute_input": "2022-10-29T23:19:44.711208Z",
     "iopub.status.busy": "2022-10-29T23:19:44.710203Z",
     "iopub.status.idle": "2022-10-29T23:19:44.715371Z",
     "shell.execute_reply": "2022-10-29T23:19:44.714609Z"
    },
    "papermill": {
     "duration": 0.018352,
     "end_time": "2022-10-29T23:19:44.717406",
     "exception": false,
     "start_time": "2022-10-29T23:19:44.699054",
     "status": "completed"
    },
    "tags": []
   },
   "outputs": [],
   "source": [
    "categorical_variables = ['gender', 'SeniorCitizen', 'Partner', 'Dependents',\n",
    "       'PhoneService', 'MultipleLines', 'InternetService',\n",
    "       'OnlineSecurity', 'OnlineBackup', 'DeviceProtection', 'TechSupport',\n",
    "       'StreamingTV', 'StreamingMovies', 'Contract', 'PaperlessBilling',\n",
    "       'PaymentMethod']"
   ]
  },
  {
   "cell_type": "code",
   "execution_count": 15,
   "id": "f410522e",
   "metadata": {
    "execution": {
     "iopub.execute_input": "2022-10-29T23:19:44.739674Z",
     "iopub.status.busy": "2022-10-29T23:19:44.738561Z",
     "iopub.status.idle": "2022-10-29T23:19:50.790581Z",
     "shell.execute_reply": "2022-10-29T23:19:50.789551Z"
    },
    "papermill": {
     "duration": 6.065573,
     "end_time": "2022-10-29T23:19:50.792929",
     "exception": false,
     "start_time": "2022-10-29T23:19:44.727356",
     "status": "completed"
    },
    "tags": []
   },
   "outputs": [
    {
     "data": {
      "image/png": "[encoded data removed]",
      "text/plain": [
       "<Figure size 484x432 with 1 Axes>"
      ]
     },
     "metadata": {
      "needs_background": "light"
     },
     "output_type": "display_data"
    },
    {
     "data": {
      "image/png": "[encoded data removed]",
      "text/plain": [
       "<Figure size 484x432 with 1 Axes>"
      ]
     },
     "metadata": {
      "needs_background": "light"
     },
     "output_type": "display_data"
    },
    {
     "data": {
      "image/png": "[encoded data removed]",
      "text/plain": [
       "<Figure size 484x432 with 1 Axes>"
      ]
     },
     "metadata": {
      "needs_background": "light"
     },
     "output_type": "display_data"
    },
    {
     "data": {
      "image/png": "[encoded data removed]",
      "text/plain": [
       "<Figure size 484x432 with 1 Axes>"
      ]
     },
     "metadata": {
      "needs_background": "light"
     },
     "output_type": "display_data"
    },
    {
     "data": {
      "image/png": "[encoded data removed]",
      "text/plain": [
       "<Figure size 484x432 with 1 Axes>"
      ]
     },
     "metadata": {
      "needs_background": "light"
     },
     "output_type": "display_data"
    },
    {
     "data": {
      "image/png": "[encoded data removed]",
      "text/plain": [
       "<Figure size 484x432 with 1 Axes>"
      ]
     },
     "metadata": {
      "needs_background": "light"
     },
     "output_type": "display_data"
    },
    {
     "data": {
      "image/png": "[encoded data removed]",
      "text/plain": [
       "<Figure size 484x432 with 1 Axes>"
      ]
     },
     "metadata": {
      "needs_background": "light"
     },
     "output_type": "display_data"
    },
    {
     "data": {
      "image/png": "[encoded data removed]",
      "text/plain": [
       "<Figure size 484x432 with 1 Axes>"
      ]
     },
     "metadata": {
      "needs_background": "light"
     },
     "output_type": "display_data"
    },
    {
     "data": {
      "image/png": "[encoded data removed]",
      "text/plain": [
       "<Figure size 484x432 with 1 Axes>"
      ]
     },
     "metadata": {
      "needs_background": "light"
     },
     "output_type": "display_data"
    },
    {
     "data": {
      "image/png": "[encoded data removed]",
      "text/plain": [
       "<Figure size 484x432 with 1 Axes>"
      ]
     },
     "metadata": {
      "needs_background": "light"
     },
     "output_type": "display_data"
    },
    {
     "data": {
      "image/png": "[encoded data removed]",
      "text/plain": [
       "<Figure size 484x432 with 1 Axes>"
      ]
     },
     "metadata": {
      "needs_background": "light"
     },
     "output_type": "display_data"
    },
    {
     "data": {
      "image/png": "[encoded data removed]",
      "text/plain": [
       "<Figure size 484x432 with 1 Axes>"
      ]
     },
     "metadata": {
      "needs_background": "light"
     },
     "output_type": "display_data"
    },
    {
     "data": {
      "image/png": "[encoded data removed]",
      "text/plain": [
       "<Figure size 484x432 with 1 Axes>"
      ]
     },
     "metadata": {
      "needs_background": "light"
     },
     "output_type": "display_data"
    },
    {
     "data": {
      "image/png": "[encoded data removed]",
      "text/plain": [
       "<Figure size 484x432 with 1 Axes>"
      ]
     },
     "metadata": {
      "needs_background": "light"
     },
     "output_type": "display_data"
    },
    {
     "data": {
      "image/png": "[encoded data removed]",
      "text/plain": [
       "<Figure size 484x432 with 1 Axes>"
      ]
     },
     "metadata": {
      "needs_background": "light"
     },
     "output_type": "display_data"
    },
    {
     "data": {
      "image/png": "[encoded data removed]",
      "text/plain": [
       "<Figure size 484x432 with 1 Axes>"
      ]
     },
     "metadata": {
      "needs_background": "light"
     },
     "output_type": "display_data"
    }
   ],
   "source": [
    "for i in range(len(categorical_variables)):\n",
    "    \n",
    "    counts = df.groupby([categorical_variables[i]])['Churn'].value_counts().rename('Count').reset_index()\n",
    "    \n",
    "    g=sns.catplot(\n",
    "        data=counts, kind=\"bar\",\n",
    "        x=categorical_variables[i], y=\"Count\", hue=\"Churn\",\n",
    "        palette=\"dark\", alpha=.6, height=6)\n",
    "    \n",
    "    g.despine(left=True)\n",
    "    g.set_axis_labels(categorical_variables[i], \"Counts\")\n",
    "    g.legend.set_title(\"Churn\")"
   ]
  },
  {
   "cell_type": "markdown",
   "id": "583a5983",
   "metadata": {
    "papermill": {
     "duration": 0.013375,
     "end_time": "2022-10-29T23:19:50.820818",
     "exception": false,
     "start_time": "2022-10-29T23:19:50.807443",
     "status": "completed"
    },
    "tags": []
   },
   "source": [
    "### Converting categorical variables into numerical with One-Hot-Encoding"
   ]
  },
  {
   "cell_type": "code",
   "execution_count": 16,
   "id": "4b730237",
   "metadata": {
    "execution": {
     "iopub.execute_input": "2022-10-29T23:19:50.850016Z",
     "iopub.status.busy": "2022-10-29T23:19:50.849592Z",
     "iopub.status.idle": "2022-10-29T23:19:50.898460Z",
     "shell.execute_reply": "2022-10-29T23:19:50.897310Z"
    },
    "papermill": {
     "duration": 0.066259,
     "end_time": "2022-10-29T23:19:50.900833",
     "exception": false,
     "start_time": "2022-10-29T23:19:50.834574",
     "status": "completed"
    },
    "tags": []
   },
   "outputs": [
    {
     "data": {
      "text/html": [
       "<div>\n",
       "<style scoped>\n",
       "    .dataframe tbody tr th:only-of-type {\n",
       "        vertical-align: middle;\n",
       "    }\n",
       "\n",
       "    .dataframe tbody tr th {\n",
       "        vertical-align: top;\n",
       "    }\n",
       "\n",
       "    .dataframe thead th {\n",
       "        text-align: right;\n",
       "    }\n",
       "</style>\n",
       "<table border=\"1\" class=\"dataframe\">\n",
       "  <thead>\n",
       "    <tr style=\"text-align: right;\">\n",
       "      <th></th>\n",
       "      <th>gender_Female</th>\n",
       "      <th>gender_Male</th>\n",
       "      <th>SeniorCitizen_0</th>\n",
       "      <th>SeniorCitizen_1</th>\n",
       "      <th>Partner_No</th>\n",
       "      <th>Partner_Yes</th>\n",
       "      <th>Dependents_No</th>\n",
       "      <th>Dependents_Yes</th>\n",
       "      <th>PhoneService_No</th>\n",
       "      <th>PhoneService_Yes</th>\n",
       "      <th>...</th>\n",
       "      <th>Contract_Month-to-month</th>\n",
       "      <th>Contract_One year</th>\n",
       "      <th>Contract_Two year</th>\n",
       "      <th>PaperlessBilling_No</th>\n",
       "      <th>PaperlessBilling_Yes</th>\n",
       "      <th>PaymentMethod_Bank transfer (automatic)</th>\n",
       "      <th>PaymentMethod_Credit card (automatic)</th>\n",
       "      <th>PaymentMethod_Electronic check</th>\n",
       "      <th>PaymentMethod_Mailed check</th>\n",
       "      <th>Churn</th>\n",
       "    </tr>\n",
       "  </thead>\n",
       "  <tbody>\n",
       "    <tr>\n",
       "      <th>0</th>\n",
       "      <td>1</td>\n",
       "      <td>0</td>\n",
       "      <td>1</td>\n",
       "      <td>0</td>\n",
       "      <td>0</td>\n",
       "      <td>1</td>\n",
       "      <td>1</td>\n",
       "      <td>0</td>\n",
       "      <td>1</td>\n",
       "      <td>0</td>\n",
       "      <td>...</td>\n",
       "      <td>1</td>\n",
       "      <td>0</td>\n",
       "      <td>0</td>\n",
       "      <td>0</td>\n",
       "      <td>1</td>\n",
       "      <td>0</td>\n",
       "      <td>0</td>\n",
       "      <td>1</td>\n",
       "      <td>0</td>\n",
       "      <td>0</td>\n",
       "    </tr>\n",
       "    <tr>\n",
       "      <th>1</th>\n",
       "      <td>0</td>\n",
       "      <td>1</td>\n",
       "      <td>1</td>\n",
       "      <td>0</td>\n",
       "      <td>1</td>\n",
       "      <td>0</td>\n",
       "      <td>1</td>\n",
       "      <td>0</td>\n",
       "      <td>0</td>\n",
       "      <td>1</td>\n",
       "      <td>...</td>\n",
       "      <td>0</td>\n",
       "      <td>1</td>\n",
       "      <td>0</td>\n",
       "      <td>1</td>\n",
       "      <td>0</td>\n",
       "      <td>0</td>\n",
       "      <td>0</td>\n",
       "      <td>0</td>\n",
       "      <td>1</td>\n",
       "      <td>0</td>\n",
       "    </tr>\n",
       "    <tr>\n",
       "      <th>2</th>\n",
       "      <td>0</td>\n",
       "      <td>1</td>\n",
       "      <td>1</td>\n",
       "      <td>0</td>\n",
       "      <td>1</td>\n",
       "      <td>0</td>\n",
       "      <td>1</td>\n",
       "      <td>0</td>\n",
       "      <td>0</td>\n",
       "      <td>1</td>\n",
       "      <td>...</td>\n",
       "      <td>1</td>\n",
       "      <td>0</td>\n",
       "      <td>0</td>\n",
       "      <td>0</td>\n",
       "      <td>1</td>\n",
       "      <td>0</td>\n",
       "      <td>0</td>\n",
       "      <td>0</td>\n",
       "      <td>1</td>\n",
       "      <td>1</td>\n",
       "    </tr>\n",
       "    <tr>\n",
       "      <th>3</th>\n",
       "      <td>0</td>\n",
       "      <td>1</td>\n",
       "      <td>1</td>\n",
       "      <td>0</td>\n",
       "      <td>1</td>\n",
       "      <td>0</td>\n",
       "      <td>1</td>\n",
       "      <td>0</td>\n",
       "      <td>1</td>\n",
       "      <td>0</td>\n",
       "      <td>...</td>\n",
       "      <td>0</td>\n",
       "      <td>1</td>\n",
       "      <td>0</td>\n",
       "      <td>1</td>\n",
       "      <td>0</td>\n",
       "      <td>1</td>\n",
       "      <td>0</td>\n",
       "      <td>0</td>\n",
       "      <td>0</td>\n",
       "      <td>0</td>\n",
       "    </tr>\n",
       "    <tr>\n",
       "      <th>4</th>\n",
       "      <td>1</td>\n",
       "      <td>0</td>\n",
       "      <td>1</td>\n",
       "      <td>0</td>\n",
       "      <td>1</td>\n",
       "      <td>0</td>\n",
       "      <td>1</td>\n",
       "      <td>0</td>\n",
       "      <td>0</td>\n",
       "      <td>1</td>\n",
       "      <td>...</td>\n",
       "      <td>1</td>\n",
       "      <td>0</td>\n",
       "      <td>0</td>\n",
       "      <td>0</td>\n",
       "      <td>1</td>\n",
       "      <td>0</td>\n",
       "      <td>0</td>\n",
       "      <td>1</td>\n",
       "      <td>0</td>\n",
       "      <td>1</td>\n",
       "    </tr>\n",
       "  </tbody>\n",
       "</table>\n",
       "<p>5 rows × 44 columns</p>\n",
       "</div>"
      ],
      "text/plain": [
       "   gender_Female  gender_Male  SeniorCitizen_0  SeniorCitizen_1  Partner_No  \\\n",
       "0              1            0                1                0           0   \n",
       "1              0            1                1                0           1   \n",
       "2              0            1                1                0           1   \n",
       "3              0            1                1                0           1   \n",
       "4              1            0                1                0           1   \n",
       "\n",
       "   Partner_Yes  Dependents_No  Dependents_Yes  PhoneService_No  \\\n",
       "0            1              1               0                1   \n",
       "1            0              1               0                0   \n",
       "2            0              1               0                0   \n",
       "3            0              1               0                1   \n",
       "4            0              1               0                0   \n",
       "\n",
       "   PhoneService_Yes  ...  Contract_Month-to-month  Contract_One year  \\\n",
       "0                 0  ...                        1                  0   \n",
       "1                 1  ...                        0                  1   \n",
       "2                 1  ...                        1                  0   \n",
       "3                 0  ...                        0                  1   \n",
       "4                 1  ...                        1                  0   \n",
       "\n",
       "   Contract_Two year  PaperlessBilling_No  PaperlessBilling_Yes  \\\n",
       "0                  0                    0                     1   \n",
       "1                  0                    1                     0   \n",
       "2                  0                    0                     1   \n",
       "3                  0                    1                     0   \n",
       "4                  0                    0                     1   \n",
       "\n",
       "   PaymentMethod_Bank transfer (automatic)  \\\n",
       "0                                        0   \n",
       "1                                        0   \n",
       "2                                        0   \n",
       "3                                        1   \n",
       "4                                        0   \n",
       "\n",
       "   PaymentMethod_Credit card (automatic)  PaymentMethod_Electronic check  \\\n",
       "0                                      0                               1   \n",
       "1                                      0                               0   \n",
       "2                                      0                               0   \n",
       "3                                      0                               0   \n",
       "4                                      0                               1   \n",
       "\n",
       "   PaymentMethod_Mailed check  Churn  \n",
       "0                           0      0  \n",
       "1                           1      0  \n",
       "2                           1      1  \n",
       "3                           0      0  \n",
       "4                           0      1  \n",
       "\n",
       "[5 rows x 44 columns]"
      ]
     },
     "execution_count": 16,
     "metadata": {},
     "output_type": "execute_result"
    }
   ],
   "source": [
    "df_dummies = pd.get_dummies(df[categorical_variables])\n",
    "df_dummies['Churn'] = df['Churn']\n",
    "df_dummies['Churn'] = df_dummies['Churn'].map({'No': 0, 'Yes': 1})\n",
    "df_dummies.head()"
   ]
  },
  {
   "cell_type": "markdown",
   "id": "a7152b56",
   "metadata": {
    "papermill": {
     "duration": 0.013787,
     "end_time": "2022-10-29T23:19:50.929043",
     "exception": false,
     "start_time": "2022-10-29T23:19:50.915256",
     "status": "completed"
    },
    "tags": []
   },
   "source": [
    "# Investigating Correlations between variables"
   ]
  },
  {
   "cell_type": "code",
   "execution_count": 17,
   "id": "674f8b2e",
   "metadata": {
    "execution": {
     "iopub.execute_input": "2022-10-29T23:19:50.959259Z",
     "iopub.status.busy": "2022-10-29T23:19:50.958628Z",
     "iopub.status.idle": "2022-10-29T23:19:51.756836Z",
     "shell.execute_reply": "2022-10-29T23:19:51.755750Z"
    },
    "papermill": {
     "duration": 0.816702,
     "end_time": "2022-10-29T23:19:51.759781",
     "exception": false,
     "start_time": "2022-10-29T23:19:50.943079",
     "status": "completed"
    },
    "tags": []
   },
   "outputs": [
    {
     "data": {
      "text/plain": [
       "<AxesSubplot:>"
      ]
     },
     "execution_count": 17,
     "metadata": {},
     "output_type": "execute_result"
    },
    {
     "data": {
      "image/png": "[encoded data removed]",
      "text/plain": [
       "<Figure size 1080x576 with 1 Axes>"
      ]
     },
     "metadata": {
      "needs_background": "light"
     },
     "output_type": "display_data"
    }
   ],
   "source": [
    "#Get Correlation of \"Churn\" with other variables:\n",
    "plt.figure(figsize=(15,8))\n",
    "df_dummies.corr()['Churn'].sort_values(ascending = False).plot(kind='bar')"
   ]
  },
  {
   "cell_type": "code",
   "execution_count": null,
   "id": "4d1bd543",
   "metadata": {
    "papermill": {
     "duration": 0.014697,
     "end_time": "2022-10-29T23:19:51.789539",
     "exception": false,
     "start_time": "2022-10-29T23:19:51.774842",
     "status": "completed"
    },
    "tags": []
   },
   "outputs": [],
   "source": []
  }
 ],
 "metadata": {
  "kernelspec": {
   "display_name": "Python 3",
   "language": "python",
   "name": "python3"
  },
  "language_info": {
   "codemirror_mode": {
    "name": "ipython",
    "version": 3
   },
   "file_extension": ".py",
   "mimetype": "text/x-python",
   "name": "python",
   "nbconvert_exporter": "python",
   "pygments_lexer": "ipython3",
   "version": "3.7.12"
  },
  "papermill": {
   "default_parameters": {},
   "duration": 19.50933,
   "end_time": "2022-10-29T23:19:52.626713",
   "environment_variables": {},
   "exception": null,
   "input_path": "__notebook__.ipynb",
   "output_path": "__notebook__.ipynb",
   "parameters": {},
   "start_time": "2022-10-29T23:19:33.117383",
   "version": "2.3.4"
  }
 },
 "nbformat": 4,
 "nbformat_minor": 5
}
